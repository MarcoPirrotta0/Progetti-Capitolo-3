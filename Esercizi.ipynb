{
 "cells": [
  {
   "cell_type": "markdown",
   "id": "ea7da547",
   "metadata": {},
   "source": [
    "1. **Scrivere una classe `Persona`** con gli attributi `nome` ed `età`, e un metodo `mostra` che restituisce una stringa contenente il nome e l’età della persona.\n",
    "2. **Scrivere una classe `Rettagolo`** con gli attributi `lunghezza` e `larghezza`, e i metodi `area` e `perimetro` che restituiscono rispettivamente l’area e il perimetro del rettangolo.\n",
    "3. **Scrivere una classe `Conto`** con l’attributo `saldo` e i metodi `deposito` e `ritiro` che aggiornano il saldo del conto in base all’importo depositato o prelevato.\n",
    "4. **Scrivere una classe `Auto`** con gli attributi `colore`, `modello` e `anno`, e un metodo `descrizione` che restituisce una stringa contenente la descrizione della macchina.\n",
    "5. **Scrivere una classe `Cane`** con l’attributo `nome` e i metodi `baubau` e `cammina` che rispettivamente fanno abbaiare il  e lo fanno camminare.\n",
    "6. **Definire una classe `Quadrato`** con gli attributi `larghezza` e `altezza` e un metodo `area` che calcoli l’area visualizzandola su schermo.\n",
    "7. **Definire una classe `Persona`** con gli attributi `nome` ed `età`, e un metodo `è_vecchio` che restituisce `True` se la persona ha più di 60 anni, altrimenti `False`.\n",
    "8. **Definire una classe `ContoBancario`** con l’attributo `saldo` e due metodi `deposita` e `preleva` che aggiungono o sottraggono una certa quantità dal saldo del conto.\n",
    "9. **Definire una classe `Punto`** con gli attributi `x` e `y` e un metodo `distanza_dall_origine` che calcola la distanza del punto dall’origine `(0, 0)`.\n",
    "10. **Definire una classe `Auto`** con gli attributi `marca`, `modello`, `anno` e `chilometraggio`, e un metodo `è_nuova` che restituisce `True` se l’auto ha meno di 1000 km, altrimenti `False`.\n",
    "11. **Creare una classe `Persona`** con gli attributi `nome` e `cognome`. Definire il costruttore per inizializzare gli attributi con i valori passati come argomenti.\n",
    "12. **Creare una classe `Cane`** con gli attributi `nome`, `razza` e `età`. Definire il costruttore per inizializzare gli attributi con i valori passati come argomenti.\n",
    "13. **Creare una classe `Punto`** con gli attributi `x` e `y`. Definire il costruttore per inizializzare gli attributi con i valori passati come argomenti, con valori predefiniti di zero se gli argomenti non vengono passati.\n",
    "14. **Creare una classe `Frutto`** con l’attributo `nome`. Definire il costruttore per inizializzare l’attributo con il valore passato come argomento, con valore predefinito di “sconosciuto” se l’argomento non viene passato.\n",
    "15. **Creare una classe `Libro`** con gli attributi `titolo`, `autore` e `anno`. Definire il costruttore per inizializzare gli attributi con i valori passati come argomenti, con valori predefiniti di stringhe vuote e zero se gli argomenti non vengono passati.\n",
    "16. **Creare una classe `NumeroComplesso`** con gli attributi `parte_reale` e `parte_immaginaria`. Definire il metodo magico `__add__` per sommare due numeri complessi.\n",
    "17. **Creare una classe `Punto`** con gli attributi `x` e `y`. Definire il metodo magico `__str__` per rappresentare l’oggetto come una stringa `\"x,y\"`.\n",
    "18. **Creare una classe `Prodotto`** con gli attributi `nome` e `prezzo`. Definire il metodo magico `__eq__` per confrontare due prodotti in base al nome e al prezzo.\n",
    "19. **Creare una classe `Cane`** con l’attributo `nome`. Definire il metodo magico `__len__` per restituire la lunghezza del nome del cane.\n",
    "20. **Creare una classe `ListaIntelligente`** con l’attributo `lista`. Definire il metodo magico `__getitem__` per accedere agli elementi della lista tramite l’indice.\n",
    "21. **Qual è la differenza tra un metodo di classe e un metodo di istanza?**\n",
    "22. **Come si può impedire la modifica di un attributo in una classe?**\n",
    "23. **Cosa significa il termine “ereditarietà” nella programmazione ad oggetti?**\n",
    "24. **Come si definisce una classe che eredita da una classe base in Python?**\n",
    "25. **Qual è il metodo magico per rappresentare una classe come una stringa?**\n",
    "26. **Come si definisce il costruttore di una classe in Python?**\n",
    "27. **Qual è il decoratore utilizzato per creare una proprietà in una classe?**\n",
    "28. **Cosa significa il termine “incapsulamento” nella programmazione ad oggetti?**\n",
    "29. **Qual è il metodo magico utilizzato per eseguire operazioni aritmetiche tra oggetti di una classe?**\n",
    "30. **Come si definisce un metodo di classe in Python?**\n"
   ]
  },
  {
   "cell_type": "code",
   "execution_count": null,
   "id": "def4a79f",
   "metadata": {},
   "outputs": [],
   "source": []
  },
  {
   "cell_type": "code",
   "execution_count": null,
   "id": "a3ac5b34",
   "metadata": {},
   "outputs": [
    {
     "name": "stdout",
     "output_type": "stream",
     "text": [
      "Nome: John, Età: 36\n"
     ]
    }
   ],
   "source": [
    "class Persona:\n",
    "    def __init__(self, nome, eta): # nuova classe che prende nome e eta come variabili\n",
    "        self.nome = nome\n",
    "        self.eta = eta # def variabli\n",
    "\n",
    "    def mostra(self):\n",
    "        return f\"Nome: {self.nome}, Età: {self.eta}\" # def funzione print\n",
    "\n",
    "# Creazione di un oggetto Persona\n",
    "p1 = Persona(\"John\", 36)\n",
    "\n",
    "# Stampa delle informazioni\n",
    "print(p1.mostra())\n"
   ]
  },
  {
   "cell_type": "code",
   "execution_count": null,
   "id": "dd47a1a7",
   "metadata": {},
   "outputs": [
    {
     "name": "stdout",
     "output_type": "stream",
     "text": [
      "lunghezza: 5, larghezza: 10\n",
      "30\n",
      "50\n"
     ]
    }
   ],
   "source": [
    "# 2. **Scrivere una classe `Rettagolo`** con gli attributi `lunghezza` e `larghezza`, e i metodi `area` e `perimetro` che restituiscono rispettivamente l’area e il perimetro del rettangolo.\n",
    "\n",
    "\n",
    "class Rettangolo:\n",
    "    def __init__(self, lunghezza, larghezza):\n",
    "        self.lunghezza = lunghezza\n",
    "        self.larghezza = larghezza\n",
    "\n",
    "    def mostra(self):\n",
    "        return f\"lunghezza: {self.lunghezza}, larghezza: {self.larghezza}\"\n",
    "\n",
    "    def trovaperimetro(self):\n",
    "        return 2 * (self.lunghezza + self.larghezza)  # Calcola e restituisce il perimetro\n",
    "    \n",
    "    def trovarea(self):\n",
    "        return self.lunghezza * self.larghezza\n",
    "\n",
    "# Creazione di un oggetto Rettangolo\n",
    "p1 = Rettangolo(5, 10)\n",
    "                \n",
    "# Stampa delle informazioni\n",
    "print(p1.mostra())\n",
    "print(p1.trovaperimetro())\n",
    "print(p1.trovarea())\n"
   ]
  },
  {
   "cell_type": "code",
   "execution_count": null,
   "id": "5f1f00c2",
   "metadata": {},
   "outputs": [
    {
     "name": "stdout",
     "output_type": "stream",
     "text": [
      "Hai ritirato: 100 da 300. Saldo attuale: 200\n",
      "Hai depositato: 50 da 200. Saldo attuale: 250\n"
     ]
    }
   ],
   "source": [
    "# 3. **Scrivere una classe `Conto`** con l’attributo `saldo` e i metodi `deposito` e `ritiro` che aggiornano il saldo del conto in base all’importo depositato o prelevato.\n",
    "\n",
    "class Conto:\n",
    "    def __init__(self, saldo):\n",
    "        self.saldo = saldo\n",
    "\n",
    "    def ritiro(self, prel):\n",
    "        saldo_precedente = self.saldo\n",
    "        self.saldo -= prel\n",
    "        return f\"Hai ritirato: {prel} da {saldo_precedente}. Saldo attuale: {self.saldo}\"\n",
    "    \n",
    "    def deposito(self, dep):\n",
    "        saldo_precedente = self.saldo\n",
    "        self.saldo += dep\n",
    "        return f\"Hai depositato: {dep} da {saldo_precedente}. Saldo attuale: {self.saldo}\"\n",
    "\n",
    "# Test\n",
    "c1 = Conto(300)\n",
    "print(c1.ritiro(100))     \n",
    "print(c1.deposito(50))    \n",
    "\n",
    "        "
   ]
  },
  {
   "cell_type": "code",
   "execution_count": 26,
   "id": "4614b18b",
   "metadata": {},
   "outputs": [
    {
     "name": "stdout",
     "output_type": "stream",
     "text": [
      "Questa è una Dacia Duster di colore Rosso dell' anno:2003\n"
     ]
    }
   ],
   "source": [
    "# 4. **Scrivere una classe `Auto`** con gli attributi `colore`, `modello` e `anno`, e un metodo `descrizione` che restituisce una stringa contenente la descrizione della macchina.\n",
    "\n",
    "class Auto:\n",
    "    def __init__(self):\n",
    "        self.colore= \"Rosso\"\n",
    "        self.modello= \"Dacia Duster\"\n",
    "        self.anno= 2003\n",
    "\n",
    "    def descrizione (self):\n",
    "        return f\"Questa è una {self.modello} di colore {self.colore} dell' anno:{self.anno}\"\n",
    "    \n",
    "a1 = Auto()\n",
    "print(a1.descrizione())"
   ]
  },
  {
   "cell_type": "code",
   "execution_count": 29,
   "id": "4204412d",
   "metadata": {},
   "outputs": [
    {
     "name": "stdout",
     "output_type": "stream",
     "text": [
      "Il cane Findyou sta abbaiando\n",
      "Il cane Findyou sta camminando\n"
     ]
    }
   ],
   "source": [
    "# 5. **Scrivere una classe `Cane`** con l’attributo `nome` e i metodi `baubau` e `cammina` che rispettivamente fanno abbaiare il cane e lo fanno camminare.\n",
    "\n",
    "class Cane:\n",
    "    def __init__(self, nome):\n",
    "        self.nome = nome\n",
    "\n",
    "    def baubau (self):\n",
    "        return f\"Il cane {self.nome} sta abbaiando\"\n",
    "    \n",
    "    def cammina (self):\n",
    "        return f\"Il cane {self.nome} sta camminando\"\n",
    "    \n",
    "c1= Cane(\"Findyou\")\n",
    "print(c1.baubau())\n",
    "print(c1.cammina())"
   ]
  },
  {
   "cell_type": "code",
   "execution_count": 31,
   "id": "5f95310e",
   "metadata": {},
   "outputs": [
    {
     "name": "stdout",
     "output_type": "stream",
     "text": [
      "Lato: 5\n",
      "25\n"
     ]
    }
   ],
   "source": [
    "# 6. **Definire una classe `Quadrato`** con l’attributo `lato` e un metodo `area` che calcoli l’area visualizzandola su schermo.\n",
    "\n",
    "class Quadrato:\n",
    "    def __init__(self, lato):\n",
    "        self.lato = lato\n",
    "\n",
    "    def mostra(self):\n",
    "        return f\"Lato: {self.lato}\"\n",
    "\n",
    "    \n",
    "    def trovarea(self):\n",
    "        return self.lato * self.lato  # Calcola e restituisce l'area\n",
    "\n",
    "# Creazione di un oggetto Quadrato\n",
    "q1 = Quadrato(5)\n",
    "\n",
    "# Stampa delle informazioni\n",
    "print(q1.mostra())\n",
    "\n",
    "print(q1.trovarea())\n"
   ]
  },
  {
   "cell_type": "code",
   "execution_count": 33,
   "id": "a944d844",
   "metadata": {},
   "outputs": [
    {
     "name": "stdout",
     "output_type": "stream",
     "text": [
      "False\n",
      "True\n"
     ]
    }
   ],
   "source": [
    "# 7. **Definire una classe `Persona`** con gli attributi `nome` ed `età`, e un metodo `è_vecchio` che restituisce `True` se la persona ha più di 60 anni, altrimenti `False`.\n",
    "\n",
    "class Persona:\n",
    "    def __init__(self, nome, eta):\n",
    "        self.nome = nome\n",
    "        self.eta = eta\n",
    "\n",
    "    def vecchiezza(self):\n",
    "        if self.eta > 60:\n",
    "            return True\n",
    "        else:\n",
    "            return False\n",
    "\n",
    "p1 = Persona(\"Marco\", 22)\n",
    "p2 = Persona(\"Vecchio\", 66)\n",
    "\n",
    "print(p1.vecchiezza())\n",
    "print(p2.vecchiezza())\n"
   ]
  },
  {
   "cell_type": "code",
   "execution_count": 35,
   "id": "6e71935f",
   "metadata": {},
   "outputs": [
    {
     "name": "stdout",
     "output_type": "stream",
     "text": [
      "Hai ritirato: 100 da 300. Saldo attuale: 200\n",
      "Hai depositato: 50 da 200. Saldo attuale: 250\n"
     ]
    }
   ],
   "source": [
    "# 8. **Definire una classe `ContoBancario`** con l’attributo `saldo` e due metodi `deposita` e `preleva` che aggiungono o sottraggono una certa quantità dal saldo del conto.\n",
    "\n",
    "class ContoBancario:\n",
    "    def __init__(self, saldo):\n",
    "        self.saldo = saldo\n",
    "\n",
    "    def preleva(self, prel):\n",
    "        saldo_precedente = self.saldo\n",
    "        self.saldo -= prel\n",
    "        return f\"Hai ritirato: {prel} da {saldo_precedente}. Saldo attuale: {self.saldo}\"\n",
    "    \n",
    "    def deposita(self, dep):\n",
    "        saldo_precedente = self.saldo\n",
    "        self.saldo += dep\n",
    "        return f\"Hai depositato: {dep} da {saldo_precedente}. Saldo attuale: {self.saldo}\"\n",
    "\n",
    "# Test\n",
    "c1 = ContoBancario(300)\n",
    "print(c1.preleva(100))     \n",
    "print(c1.deposita(50))    "
   ]
  },
  {
   "cell_type": "code",
   "execution_count": 40,
   "id": "65067950",
   "metadata": {},
   "outputs": [
    {
     "name": "stdout",
     "output_type": "stream",
     "text": [
      "La distanza è: 5.385164807134504\n"
     ]
    }
   ],
   "source": [
    "# 9. **Definire una classe `Punto`** con gli attributi `x` e `y` e un metodo `distanza_dall_origine` che calcola la distanza del punto dall’origine `(0, 0)`.\n",
    "import math\n",
    "\n",
    "class Punto:\n",
    "    def __init__(self, x , y):\n",
    "        self.x = x\n",
    "        self.y = y\n",
    "\n",
    "    def distanzaorigine(self):\n",
    "        ipo = math.sqrt(self.x**2 + self.y**2)\n",
    "        return f\"La distanza è: {ipo}\"\n",
    "    \n",
    "punto = Punto(5, 2)\n",
    "print(punto.distanzaorigine())"
   ]
  },
  {
   "cell_type": "code",
   "execution_count": 41,
   "id": "e5ad7d2a",
   "metadata": {},
   "outputs": [
    {
     "name": "stdout",
     "output_type": "stream",
     "text": [
      "True\n"
     ]
    }
   ],
   "source": [
    "# 10. **Definire una classe `Auto`** con gli attributi `marca`, `modello`, `anno` e `chilometraggio`, e un metodo `è_nuova` che restituisce `True` se l’auto ha meno di 1000 km, altrimenti `False`.\n",
    "\n",
    "class Auto:\n",
    "    def __init__(self):\n",
    "        self.marca= \"Fiat\"\n",
    "        self.modello= \"Panda\"\n",
    "        self.anno= 2023\n",
    "        self.chilometraggio= 500\n",
    "\n",
    "    def è_nuova (self):\n",
    "        if self.chilometraggio < 1000:\n",
    "            return True\n",
    "        else:\n",
    "            return False\n",
    "        \n",
    "macchina = Auto()\n",
    "print(macchina.è_nuova())\n"
   ]
  },
  {
   "cell_type": "code",
   "execution_count": 42,
   "id": "cb0b5e5f",
   "metadata": {},
   "outputs": [
    {
     "name": "stdout",
     "output_type": "stream",
     "text": [
      "Nome: John, Età: 36\n"
     ]
    }
   ],
   "source": [
    "# 11. **Creare una classe `Persona`** con gli attributi `nome` e `cognome`. Definire il costruttore per inizializzare gli attributi con i valori passati come argomenti.\n",
    "\n",
    "class Persona:\n",
    "    def __init__(self, nome, eta): # nuova classe che prende nome e eta come variabili\n",
    "        self.nome = nome\n",
    "        self.eta = eta # def variabli\n",
    "\n",
    "    def mostra(self):\n",
    "        return f\"Nome: {self.nome}, Età: {self.eta}\" # def funzione print\n",
    "\n",
    "# Creazione di un oggetto Persona\n",
    "p1 = Persona(\"John\", 36)\n",
    "\n",
    "# Stampa delle informazioni\n",
    "print(p1.mostra())"
   ]
  },
  {
   "cell_type": "code",
   "execution_count": 43,
   "id": "fb10285d",
   "metadata": {},
   "outputs": [
    {
     "name": "stdout",
     "output_type": "stream",
     "text": [
      "Findyou\n",
      "Labrador\n",
      "5\n"
     ]
    }
   ],
   "source": [
    "# 12. **Creare una classe `Cane`** con gli attributi `nome`, `razza` e `età`. Definire il costruttore per inizializzare gli attributi con i valori passati come argomenti.\n",
    "\n",
    "\n",
    "class Cane:\n",
    "    def __init__(self, nome, razza, eta): \n",
    "        self.nome = nome\n",
    "        self.razza = razza\n",
    "        self.eta = eta\n",
    "    \n",
    "c1= Cane(\"Findyou\", \"Labrador\", 5)\n",
    "print(c1.nome)\n",
    "print(c1.razza)\n",
    "print(c1.eta)\n"
   ]
  },
  {
   "cell_type": "code",
   "execution_count": 44,
   "id": "5b4ff2e7",
   "metadata": {},
   "outputs": [
    {
     "name": "stdout",
     "output_type": "stream",
     "text": [
      "0\n",
      "0\n"
     ]
    }
   ],
   "source": [
    "# 13. **Creare una classe `Punto`** con gli attributi `x` e `y`. Definire il costruttore per inizializzare gli attributi con i valori passati come argomenti, \n",
    "# con valori predefiniti di zero se gli argomenti non vengono passati.\n",
    "\n",
    "\n",
    "class Punto:\n",
    "    def __init__(self, x = 0, y = 0):\n",
    "        self.x = x\n",
    "        self.y = y\n",
    "\n",
    "\n",
    "    \n",
    "punto = Punto()\n",
    "print(punto.x)\n",
    "print(punto.y)"
   ]
  },
  {
   "cell_type": "code",
   "execution_count": null,
   "id": "c69ab5bc",
   "metadata": {},
   "outputs": [
    {
     "name": "stdout",
     "output_type": "stream",
     "text": [
      "sconosciuto\n"
     ]
    }
   ],
   "source": [
    "# 14. **Creare una classe `Frutto`** con l’attributo `nome`. Definire il costruttore per inizializzare l’attributo con il valore passato come argomento, con valore predefinito di “sconosciuto” se l’argomento non viene passato.\n",
    "\n",
    "class Frutto:\n",
    "    def __init__(self, nome = \"sconosciuto\"):\n",
    "        self.nome = nome\n",
    "\n",
    "\n",
    "frutto = Frutto()\n",
    "print(frutto.nome)"
   ]
  },
  {
   "cell_type": "code",
   "execution_count": 49,
   "id": "fc108116",
   "metadata": {},
   "outputs": [
    {
     "name": "stdout",
     "output_type": "stream",
     "text": [
      "Wheel of time\n",
      "sono una stringa vuota\n",
      "0\n"
     ]
    }
   ],
   "source": [
    "# 15. **Creare una classe `Libro`** con gli attributi `titolo`, `autore` e `anno`. Definire il costruttore per inizializzare gli attributi con i valori passati come argomenti, \n",
    "# con valori predefiniti di stringhe vuote e zero se gli argomenti non vengono passati.\n",
    "\n",
    "class Libro:\n",
    "    def __init__(self, titolo = \"\", autore = \"sono una stringa vuota\", anno = 0):\n",
    "        self.titolo = titolo\n",
    "        self.autore = autore\n",
    "        self.anno = anno\n",
    "\n",
    "Libro1 = Libro(\"Wheel of time\")\n",
    "print(Libro1.titolo)\n",
    "print(Libro1.autore)\n",
    "print(Libro1.anno)\n"
   ]
  },
  {
   "cell_type": "code",
   "execution_count": 61,
   "id": "d57c2f66",
   "metadata": {},
   "outputs": [
    {
     "name": "stdout",
     "output_type": "stream",
     "text": [
      "4 + 6i\n"
     ]
    }
   ],
   "source": [
    "#16. **Creare una classe `NumeroComplesso`** con gli attributi `parte_reale` e `parte_immaginaria`. Definire il metodo magico `__add__` per sommare due numeri complessi.\n",
    "\n",
    "class NumeroComplesso:\n",
    "    def __init__(self, parte_reale, parte_immaginaria):\n",
    "        self.parte_reale = parte_reale\n",
    "        self.parte_immaginaria = parte_immaginaria\n",
    "\n",
    "    def __add__(self, other):\n",
    "        return NumeroComplesso(self.parte_reale + other.parte_reale, \n",
    "                               self.parte_immaginaria + other.parte_immaginaria)\n",
    "\n",
    "    def __str__(self):\n",
    "        return f\"{self.parte_reale} + {self.parte_immaginaria}i\"\n",
    "\n",
    "# Esempio di utilizzo\n",
    "num1 = NumeroComplesso(3, 4)\n",
    "num2 = NumeroComplesso(1, 2)\n",
    "somma = num1 + num2\n",
    "print(somma)  # Stampa \"4 + 6i\"\n",
    "\n"
   ]
  },
  {
   "cell_type": "code",
   "execution_count": 56,
   "id": "572099e8",
   "metadata": {},
   "outputs": [
    {
     "name": "stdout",
     "output_type": "stream",
     "text": [
      "5, 2\n"
     ]
    }
   ],
   "source": [
    "# 17. **Creare una classe `Punto`** con gli attributi `x` e `y`. Definire il metodo magico `__str__` per rappresentare l’oggetto come una stringa `\"x,y\"`.\n",
    "\n",
    "\n",
    "class Punto:\n",
    "    def __init__(self, x , y):\n",
    "        self.x = x\n",
    "        self.y = y\n",
    "\n",
    "    def __str__(self):\n",
    "        return f\"{self.x}, {self.y}\"  \n",
    "\n",
    "    \n",
    "punto = Punto(5, 2)\n",
    "print(punto)  # Stampa \"5, 2\"\n"
   ]
  },
  {
   "cell_type": "code",
   "execution_count": null,
   "id": "9c6e6158",
   "metadata": {},
   "outputs": [
    {
     "name": "stdout",
     "output_type": "stream",
     "text": [
      "True\n",
      "False\n"
     ]
    }
   ],
   "source": [
    "# 18. **Creare una classe `Prodotto`** con gli attributi `nome` e `prezzo`. Definire il metodo magico `__eq__` per confrontare due prodotti in base al nome e al prezzo.\n",
    "\n",
    "class Prodotto:\n",
    "    def __init__(self, nome, prezzo):\n",
    "        self.nome = nome\n",
    "        self.prezzo = prezzo\n",
    "\n",
    "    def __eq__(self, other):\n",
    "        return self.nome == other.nome and self.prezzo == other.prezzo\n",
    "    \n",
    "prodotto1 = Prodotto(\"Mela\", 1.5)\n",
    "prodotto2 = Prodotto(\"Mela\", 1.5)\n",
    "prodotto3 = Prodotto(\"Pera\", 1.5)\n",
    "\n",
    "print(prodotto1 == prodotto2) \n",
    "print(prodotto1 == prodotto3) \n"
   ]
  },
  {
   "cell_type": "code",
   "execution_count": 59,
   "id": "90c975d7",
   "metadata": {},
   "outputs": [
    {
     "name": "stdout",
     "output_type": "stream",
     "text": [
      "7\n"
     ]
    }
   ],
   "source": [
    "# 19. **Creare una classe `Cane`** con l’attributo `nome`. Definire il metodo magico `__len__` per restituire la lunghezza del nome del cane.\n",
    "\n",
    "\n",
    "class Cane:\n",
    "    def __init__(self, nome):\n",
    "        self.nome = nome\n",
    "\n",
    "    def __len__(self):\n",
    "        return len(self.nome)\n",
    "    \n",
    "c1= Cane(\"Findyou\")\n",
    "print(len(c1))  # Stampa la lunghezza del nome del cane"
   ]
  },
  {
   "cell_type": "code",
   "execution_count": 60,
   "id": "144402c3",
   "metadata": {},
   "outputs": [
    {
     "name": "stdout",
     "output_type": "stream",
     "text": [
      "3\n"
     ]
    }
   ],
   "source": [
    "# 20. **Creare una classe `ListaIntelligente`** con l’attributo `lista`. Definire il metodo magico `__getitem__` per accedere agli elementi della lista tramite l’indice.\n",
    "\n",
    "class ListaIntelligente:\n",
    "    def __init__(self, lista):\n",
    "        self.lista = lista\n",
    "\n",
    "    def __getitem__(self, index):\n",
    "        return self.lista[index]\n",
    "    \n",
    "lista= ListaIntelligente([1, 2, 3, 4, 5])\n",
    "print(lista[2])  # Stampa il terzo elemento della lista (3)"
   ]
  },
  {
   "cell_type": "markdown",
   "id": "6ed868df",
   "metadata": {},
   "source": [
    "21. Metodo di classe vs istanza  \n",
    "- @classmethod → primo arg cls, agisce sulla classe  \n",
    "- istanza → primo arg self, agisce sull’oggetto  \n",
    "\n",
    "22. Bloccare attributo  \n",
    "- @property senza setter  \n",
    "\n",
    "23. Ereditarietà  \n",
    "- Figlia eredita attributi/metodi da padre  \n",
    "\n",
    "24. Definire classe che eredita  \n",
    "class Figlia(Padre): ...  \n",
    "\n",
    "25. Metodo magico stringa  \n",
    "- __str__  \n",
    "\n",
    "26. Costruttore  \n",
    "- __init__  \n",
    "\n",
    "27. Decoratore proprietà  \n",
    "- @property  \n",
    "\n",
    "28. Incapsulamento  \n",
    "- Nascondere dati dietro metodi  \n",
    "\n",
    "29. Metodo magico aritmetica  \n",
    "- __add__, __sub__, \n",
    "\n",
    "30. Metodo di classe  \n",
    "@classmethod  \n",
    "def m(cls): ...  \n"
   ]
  },
  {
   "cell_type": "markdown",
   "id": "2a7b145d",
   "metadata": {},
   "source": [
    "1)  Creare una classe Persona con metodi `set_nome` e `get_nome`. Incapsulare l’attributo `nome`  \n",
    "    per non renderlo accessibile dall’esterno.  \n",
    "2)  Creare una classe ContoInBanca che incapsuli un attributo `saldo` e abbia metodi per  \n",
    "    depositare e prelevare denaro, senza permettere che `saldo` diventi negativo.  \n",
    "3)  Creare una classe ControlloPassword che incapsuli una password e abbia un metodo per  \n",
    "    verificarla, incapsulando l’attributo per non renderlo accessibile dall’esterno.  \n",
    "4)  Creare una classe Studenti che incapsuli `nome` e `voti` (lista). Aggiungere metodi per  \n",
    "    aggiungere/rimuovere voti, incapsulando gli attributi.  \n",
    "5)  Creare una classe Rettangolo che incapsuli `lunghezza` e `altezza`. Aggiungere metodi per  \n",
    "    calcolare area e perimetro, incapsulando gli attributi.  \n",
    "6)  Creare una classe Impiegati che incapsuli `nome` e `stipendio`. Aggiungere un metodo per  \n",
    "    aumentare lo stipendio e un getter `getStipendio`, incapsulando gli attributi.  \n",
    "7)  Creare una classe Veicolo con `marca`, `modello` e `anno_produzione`. Incapsulare marca  \n",
    "    e modello; fornire getter/setter per l’anno e un metodo per stampare le info del veicolo.  \n",
    "8)  Scrivere una classe Figura con metodi `area()` e `perimetro()`. Creare sottoclassi  \n",
    "    `Quadrato` e `Cerchio` che li implementino e usare il polimorfismo su una lista di figure.  \n",
    "9)  Scrivere una classe Animale con metodo `verso()`. Creare `Gatto` e `Cane` che lo  \n",
    "    sovrascrivano e usare il polimorfismo per far emettere un verso casuale.  \n",
    "10) Creare una classe Animale con metodo `parla()`. Sottoclassi `Cane` e `Gatto` lo  \n",
    "    sovrascrivono con comportamenti diversi.  \n",
    "11) Creare una funzione che accetti un parametro di tipo `Iterable` e stampi ogni elemento.  \n",
    "12) Creare una classe Veicolo con metodo `muovi()`. Sottoclassi `Automobile` e `Bicicletta`  \n",
    "    sovrascrivono `muovi()` con comportamenti diversi.  \n",
    "13) Creare una classe Persona con metodo `saluta()`. Sottoclassi `Uomo` e `Donna` lo  \n",
    "    sovrascrivono.  \n",
    "14) Creare una classe Persona con metodo `saluta()` che stampi “Ciao”. Creare `Studente`  \n",
    "    (sottoclasse) con metodo `studia()` che stampi “Sto studiando”.  \n",
    "15) Creare una classe Veicolo con attributo `velocità` e metodo `accelera()` (+10 km/h).  \n",
    "    Sottoclasse `Auto` aggiunge attributo `marca` e metodo `suona_clacson()`.  \n",
    "16) Creare una classe Animale con metodo `muovi()` che stampa “Mi muovo”. Sottoclasse  \n",
    "    `Cane` aggiunge `abbaiare()` (“Bau bau!”) e invocarle entrambe.  \n",
    "17) Creare una classe Animale con metodo `muovi()`. Sottoclassi `Cane` e `Gatto`  \n",
    "    sovrascrivono `muovi()` stampando rispettivamente “Il cane sta correndo” e  \n",
    "    “Il gatto sta saltando”.  \n",
    "18) Creare una classe Veicolo con attributo `velocita` e metodo `muovi()`. Sottoclassi  \n",
    "    `Auto` e `Bicicletta` sovrascrivono `velocita` (120/25 km/h) e `muovi()`  \n",
    "    stampando le frasi corrispondenti.  \n",
    "19) Creare una classe Forma con metodo `area()`. Sottoclassi `Quadrato` e `Cerchio`  \n",
    "    implementano `area()`.  \n",
    "20) Creare una classe Animale con metodo `verso()` che stampa “Non so fare nessun verso”.  \n",
    "    Sottoclassi `Gatto` e `Cane` lo sovrascrivono con versi appropriati.  "
   ]
  },
  {
   "cell_type": "code",
   "execution_count": 5,
   "id": "58b0d248",
   "metadata": {},
   "outputs": [
    {
     "name": "stdout",
     "output_type": "stream",
     "text": [
      "Marco\n"
     ]
    }
   ],
   "source": [
    "# 1)  Creare una classe Persona con metodi `set_nome` e `get_nome`. Incapsulare l’attributo `nome`  \n",
    "\n",
    "class Persona:\n",
    "    def __init__(self, nome):\n",
    "        self.__nome = nome  # Attributo privato\n",
    "    \n",
    "    def get_nome(self):\n",
    "        return self.__nome\n",
    "    \n",
    "    def set_nome(self, nome):\n",
    "        self.__nome = nome\n",
    "\n",
    "\n",
    "persona = Persona(\"Mario\")\n",
    "persona.set_nome(\"Marco\")\n",
    "print(persona.get_nome())  # Stampa \"Mario\"\n",
    "\n",
    "\n"
   ]
  },
  {
   "cell_type": "code",
   "execution_count": null,
   "id": "0d632b35",
   "metadata": {},
   "outputs": [
    {
     "name": "stdout",
     "output_type": "stream",
     "text": [
      "Saldo insufficiente\n",
      "Hai depositato: 50 da 300. Saldo attuale: 350\n"
     ]
    }
   ],
   "source": [
    "# 2)  Creare una classe ContoInBanca che incapsuli un attributo `saldo` e abbia metodi per  \n",
    "   # depositare e prelevare denaro, senza permettere che `saldo` diventi negativo.  \n",
    "\n",
    "class Conto:\n",
    "    def __init__(self, saldo):\n",
    "        self.saldo = saldo\n",
    "\n",
    "    #  def ritiro(self, prel):\n",
    "    #      saldo_precedente = self.saldo\n",
    "    #      self.saldo -= prel\n",
    "    #      return f\"Hai ritirato: {prel} da {saldo_precedente}. Saldo attuale: {self.saldo}\"\n",
    "\n",
    "    def ritiro(self, prel):\n",
    "        if self.saldo - prel < 0:\n",
    "            return \"Saldo insufficiente\"\n",
    "        else:\n",
    "            saldo_precedente = self.saldo\n",
    "            self.saldo -= prel\n",
    "            return f\"Hai ritirato: {prel} da {saldo_precedente}. Saldo attuale: {self.saldo}\"\n",
    "   \n",
    "    \n",
    "    def deposito(self, dep):\n",
    "        saldo_precedente = self.saldo\n",
    "        self.saldo += dep\n",
    "        return f\"Hai depositato: {dep} da {saldo_precedente}. Saldo attuale: {self.saldo}\"\n",
    "\n",
    "# Test\n",
    "c1 = Conto(300)\n",
    "print(c1.ritiro(301))     "
   ]
  },
  {
   "cell_type": "code",
   "execution_count": null,
   "id": "ad31ba51",
   "metadata": {},
   "outputs": [
    {
     "name": "stdout",
     "output_type": "stream",
     "text": [
      "Password corretta\n",
      "Password errata\n"
     ]
    }
   ],
   "source": [
    "# 3)  Creare una classe ControlloPassword che incapsuli una password e abbia un metodo per  \n",
    "#     verificarla, incapsulando l’attributo per non renderlo accessibile dall’esterno.  \n",
    "\n",
    "class ControlloPassword:\n",
    "    def __init__(self, password):\n",
    "        self.__password = password  # Attributo privato\n",
    "    \n",
    "    def verifica_password(self, password):\n",
    "        if self.__password == password:\n",
    "            return \"Password corretta\"\n",
    "        else:\n",
    "            return \"Password errata\"\n",
    "    \n",
    "\n",
    "password = ControlloPassword(\"1234\")\n",
    "print(password.verifica_password(\"1234\"))  \n",
    "print(password.verifica_password(\"4321\"))  \n"
   ]
  },
  {
   "cell_type": "code",
   "execution_count": 10,
   "id": "4f83642d",
   "metadata": {},
   "outputs": [
    {
     "name": "stdout",
     "output_type": "stream",
     "text": [
      "[9, 10]\n"
     ]
    }
   ],
   "source": [
    "# 4)  Creare una classe Studenti che incapsuli `nome` e `voti` (lista). Aggiungere metodi per  \n",
    "#     aggiungere/rimuovere voti, incapsulando gli attributi.  \n",
    "\n",
    "class Studenti:\n",
    "    def __init__(self, nome):\n",
    "        self.__nome = nome  # Attributo privato\n",
    "        self.__voti = []  # Lista privata per i voti\n",
    "    \n",
    "    def aggiungi_voto(self, voto):\n",
    "        self.__voti.append(voto)\n",
    "    \n",
    "    def rimuovi_voto(self, voto):\n",
    "        if voto in self.__voti:\n",
    "            self.__voti.remove(voto)\n",
    "        else:\n",
    "            return \"Voto non trovato\"\n",
    "    \n",
    "    def mostra_voti(self):\n",
    "        return self.__voti\n",
    "    \n",
    "studente = Studenti(\"Mario\")\n",
    "studente.aggiungi_voto(8)\n",
    "studente.aggiungi_voto(9)\n",
    "studente.aggiungi_voto(10)\n",
    "studente.rimuovi_voto(8)\n",
    "print(studente.mostra_voti())  # Stampa [9]\n"
   ]
  },
  {
   "cell_type": "code",
   "execution_count": 11,
   "id": "c20fe10c",
   "metadata": {},
   "outputs": [
    {
     "name": "stdout",
     "output_type": "stream",
     "text": [
      "Lunghezza: 5, Larghezza: 10\n",
      "Perimetro: 30\n",
      "Area: 50\n"
     ]
    }
   ],
   "source": [
    "# 5)  Creare una classe Rettangolo che incapsuli `lunghezza` e `altezza`. Aggiungere metodi per  \n",
    "#     calcolare area e perimetro, incapsulando gli attributi.  \n",
    "\n",
    "class Rettangolo:\n",
    "    def __init__(self, lunghezza, larghezza):\n",
    "        self.__lunghezza = lunghezza  # Attributo privato\n",
    "        self.__larghezza = larghezza  # Attributo privato\n",
    "\n",
    "    def set_lunghezza(self, lunghezza):\n",
    "        self.__lunghezza = lunghezza\n",
    "\n",
    "    def get_lunghezza(self):\n",
    "        return self.__lunghezza\n",
    "\n",
    "    def set_larghezza(self, larghezza):\n",
    "        self.__larghezza = larghezza\n",
    "\n",
    "    def get_larghezza(self):\n",
    "        return self.__larghezza\n",
    "\n",
    "    def calcola_perimetro(self):\n",
    "        return 2 * (self.__lunghezza + self.__larghezza)  # Calcola e restituisce il perimetro\n",
    "    \n",
    "    def calcola_area(self):\n",
    "        return self.__lunghezza * self.__larghezza  # Calcola e restituisce l'area\n",
    "\n",
    "# Creazione di un oggetto Rettangolo\n",
    "rettangolo = Rettangolo(5, 10)\n",
    "\n",
    "# Stampa delle informazioni\n",
    "print(f\"Lunghezza: {rettangolo.get_lunghezza()}, Larghezza: {rettangolo.get_larghezza()}\")\n",
    "print(f\"Perimetro: {rettangolo.calcola_perimetro()}\")\n",
    "print(f\"Area: {rettangolo.calcola_area()}\")\n"
   ]
  },
  {
   "cell_type": "code",
   "execution_count": 15,
   "id": "7184069d",
   "metadata": {},
   "outputs": [
    {
     "name": "stdout",
     "output_type": "stream",
     "text": [
      "Lo stipendio è adesso 650\n",
      "650\n"
     ]
    }
   ],
   "source": [
    "# 6)  Creare una classe Impiegati che incapsuli `nome` e `stipendio`. Aggiungere un metodo per  \n",
    "    # aumentare lo stipendio e un getter `getStipendio`, incapsulando gli attributi.  \n",
    "\n",
    "class Impiegati:\n",
    "    def __init__(self, nome, stipendio):\n",
    "        self.__Nome = nome\n",
    "        self.__Stipendio = stipendio\n",
    "\n",
    "    def aumentaStipendio(self, aumento):\n",
    "        self.__Stipendio += aumento\n",
    "        return f\"Lo stipendio è adesso {self.__Stipendio}\"\n",
    "    \n",
    "    def getStipendio(self):\n",
    "        return self.__Stipendio\n",
    "    \n",
    "\n",
    "impiegato = Impiegati(\"Marco\", 600)\n",
    "print(impiegato.aumentaStipendio(50))\n",
    "print(impiegato.getStipendio())\n"
   ]
  },
  {
   "cell_type": "code",
   "execution_count": 22,
   "id": "3173b191",
   "metadata": {},
   "outputs": [
    {
     "name": "stdout",
     "output_type": "stream",
     "text": [
      "2001\n",
      "Marca: dacia, Modello: dster, Anno: 2001\n"
     ]
    }
   ],
   "source": [
    "# 7)  Creare una classe Veicolo con `marca`, `modello` e `anno_produzione`. Incapsulare marca  \n",
    "#     e modello; fornire getter/setter per l’anno e un metodo per stampare le info del veicolo.  \n",
    "\n",
    "class Veicolo:\n",
    "    def __init__(self, marca, modello, anno):\n",
    "        self.__marca = marca\n",
    "        self.__modello = modello\n",
    "        self.__anno = anno\n",
    "\n",
    "    def get_anno(self):\n",
    "            return self.__anno\n",
    "    \n",
    "    def set_anno(self, anno):\n",
    "            self.__anno = anno\n",
    "\n",
    "    def stampa_info(self):\n",
    "        return f\"Marca: {self.__marca}, Modello: {self.__modello}, Anno: {self.__anno}\"\n",
    "\n",
    "    \n",
    "a1 = Veicolo(\"dacia\", \"dster\", 2003)\n",
    "a1.set_anno(2001)\n",
    "print(a1.get_anno())\n",
    "print(a1.stampa_info())\n"
   ]
  },
  {
   "cell_type": "code",
   "execution_count": 23,
   "id": "3582ca53",
   "metadata": {},
   "outputs": [
    {
     "name": "stdout",
     "output_type": "stream",
     "text": [
      "Area: 9.00, Perimetro: 12.00\n",
      "Area: 12.57, Perimetro: 12.57\n",
      "Area: 25.00, Perimetro: 20.00\n"
     ]
    }
   ],
   "source": [
    "# 8)  Scrivere una classe Figura con metodi `area()` e `perimetro()`. Creare sottoclassi  \n",
    "    # `Quadrato` e `Cerchio` che li implementino e usare il polimorfismo su una lista di figure.  \n",
    "\n",
    "\n",
    "import math\n",
    "\n",
    "# Classe base\n",
    "class Figura:\n",
    "    def area(self):\n",
    "        raise NotImplementedError(\"Metodo area() non implementato\")\n",
    "\n",
    "    def perimetro(self):\n",
    "        raise NotImplementedError(\"Metodo perimetro() non implementato\")\n",
    "\n",
    "# Sottoclasse: Quadrato\n",
    "class Quadrato(Figura):\n",
    "    def __init__(self, lato):\n",
    "        self.lato = lato\n",
    "\n",
    "    def area(self):\n",
    "        return self.lato ** 2\n",
    "\n",
    "    def perimetro(self):\n",
    "        return 4 * self.lato\n",
    "\n",
    "# Sottoclasse: Cerchio\n",
    "class Cerchio(Figura):\n",
    "    def __init__(self, raggio):\n",
    "        self.raggio = raggio\n",
    "\n",
    "    def area(self):\n",
    "        return math.pi * self.raggio ** 2\n",
    "\n",
    "    def perimetro(self):\n",
    "        return 2 * math.pi * self.raggio\n",
    "\n",
    "# Polimorfismo: lista di figure\n",
    "figure = [Quadrato(3), Cerchio(2), Quadrato(5)]\n",
    "\n",
    "for f in figure:\n",
    "    print(f\"Area: {f.area():.2f}, Perimetro: {f.perimetro():.2f}\")\n"
   ]
  },
  {
   "cell_type": "code",
   "execution_count": 25,
   "id": "8f4f3147",
   "metadata": {},
   "outputs": [
    {
     "name": "stdout",
     "output_type": "stream",
     "text": [
      "Animale scelto: Gatto\n",
      "Verso dell'animale: Miao Miao\n"
     ]
    }
   ],
   "source": [
    "# 9)  Scrivere una classe Animale con metodo `verso()`. Creare `Gatto` e `Cane` che lo  \n",
    "#     sovrascrivano e usare il polimorfismo per far emettere un verso casuale.  \n",
    "\n",
    "\n",
    "import random\n",
    "\n",
    "class Animale():\n",
    "    def verso(self):\n",
    "        print(\"Verso dell'animale - non implementato\")\n",
    "\n",
    "class Gatto(Animale):\n",
    "    def verso(self):\n",
    "        return \"Miao Miao\"\n",
    "\n",
    "class Cane(Animale):\n",
    "    def verso(self):\n",
    "        return \"Bau Bau\"\n",
    "\n",
    "animali = [Gatto(), Cane()]    \n",
    "animale_casuale = random.choice(animali)\n",
    "print(f\"Animale scelto: {type(animale_casuale).__name__}\")\n",
    "print(f\"Verso dell'animale: {animale_casuale.verso()}\")"
   ]
  },
  {
   "cell_type": "code",
   "execution_count": null,
   "id": "abfb498b",
   "metadata": {},
   "outputs": [
    {
     "name": "stdout",
     "output_type": "stream",
     "text": [
      "Bau Bau\n",
      "Miao Miao\n"
     ]
    }
   ],
   "source": [
    "# 10) Creare una classe Animale con metodo `parla()`. Sottoclassi `Cane` e `Gatto` lo  \n",
    "#     sovrascrivono con comportamenti diversi.  \n",
    "\n",
    "class Animale():\n",
    "    def verso(self):\n",
    "        print(\"Verso dell'animale - non implementato\")\n",
    "\n",
    "class Gatto(Animale):\n",
    "    def verso(self):\n",
    "        return \"Miao Miao\"\n",
    "\n",
    "class Cane(Animale):\n",
    "    def verso(self):\n",
    "        return \"Bau Bau\"\n",
    "\n",
    "cane = Cane()\n",
    "gatto = Gatto()\n",
    "\n",
    "print(cane.verso())\n",
    "print(gatto.verso())"
   ]
  },
  {
   "cell_type": "code",
   "execution_count": 29,
   "id": "8f3f7877",
   "metadata": {},
   "outputs": [
    {
     "name": "stdout",
     "output_type": "stream",
     "text": [
      "1\n",
      "2\n",
      "3\n",
      "4\n"
     ]
    }
   ],
   "source": [
    "# 11) Creare una funzione che accetti un parametro di tipo `Iterable` e stampi ogni elemento.  \n",
    "\n",
    "def iterabile(iterabile):\n",
    "    for element in iterabile:\n",
    "        print(element)\n",
    "\n",
    "array = [1,2,3,4]\n",
    "\n",
    "iterabile(array)"
   ]
  },
  {
   "cell_type": "code",
   "execution_count": 31,
   "id": "9d1ee9da",
   "metadata": {},
   "outputs": [
    {
     "name": "stdout",
     "output_type": "stream",
     "text": [
      "Broom broom\n",
      "Ring ring\n"
     ]
    }
   ],
   "source": [
    "# 12) Creare una classe Veicolo con metodo `muovi()`. Sottoclassi `Automobile` e `Bicicletta`  \n",
    "#     sovrascrivono `muovi()` con comportamenti diversi.  \n",
    "\n",
    "\n",
    "class Veicolo():\n",
    "    def verso(self):\n",
    "        print(\"Suono del veicolo - non implementato\")\n",
    "\n",
    "class Macchina(Veicolo):\n",
    "    def verso(self):\n",
    "        return \"Broom broom\"\n",
    "\n",
    "class Bicicletta(Veicolo):\n",
    "    def verso(self):\n",
    "        return \"Ring ring\"\n",
    "\n",
    "\n",
    "macchina = Macchina()\n",
    "bicicletta = Bicicletta()\n",
    "print(macchina.verso())\n",
    "print(bicicletta.verso())"
   ]
  },
  {
   "cell_type": "code",
   "execution_count": 32,
   "id": "6e72cf9c",
   "metadata": {},
   "outputs": [
    {
     "name": "stdout",
     "output_type": "stream",
     "text": [
      "Sono un uomo\n",
      "Sono una dotta\n"
     ]
    }
   ],
   "source": [
    "# 13) Creare una classe Persona con metodo `saluta()`. Sottoclassi `Uomo` e `Donna` lo  \n",
    "#     sovrascrivono.  \n",
    "\n",
    "class Persona():\n",
    "    def verso(self):\n",
    "        print(\"Sono un - non implementato\")\n",
    "\n",
    "class Uomo(Persona):\n",
    "    def verso(self):\n",
    "        return \"Sono un uomo\"\n",
    "\n",
    "class Donna(Persona):\n",
    "    def verso(self):\n",
    "        return \"Sono una dotta\"\n",
    "\n",
    "\n",
    "uomo = Uomo()\n",
    "donna = Donna()\n",
    "print(uomo.verso())\n",
    "print(donna.verso())"
   ]
  },
  {
   "cell_type": "code",
   "execution_count": 33,
   "id": "dd7aaf84",
   "metadata": {},
   "outputs": [
    {
     "name": "stdout",
     "output_type": "stream",
     "text": [
      "Ciao\n",
      "Sto studiando\n"
     ]
    }
   ],
   "source": [
    "# 14) Creare una classe Persona con metodo `saluta()` che stampi “Ciao”. Creare `Studente`  \n",
    "#     (sottoclasse) con metodo `studia()` che stampi “Sto studiando”.  \n",
    "\n",
    "class Persona():\n",
    "    def saluta(self):\n",
    "        return \"Ciao\"\n",
    "    \n",
    "class Studente(Persona):\n",
    "    def studia(self):\n",
    "        return \"Sto studiando\"\n",
    "    \n",
    "studente = Studente()\n",
    "print(studente.saluta())\n",
    "print(studente.studia())"
   ]
  },
  {
   "cell_type": "code",
   "execution_count": 34,
   "id": "0933cac2",
   "metadata": {},
   "outputs": [
    {
     "name": "stdout",
     "output_type": "stream",
     "text": [
      "Velocità attuale: 60 km/h\n",
      "Beep beep!\n"
     ]
    }
   ],
   "source": [
    "# 15) Creare una classe Veicolo con attributo `velocità` e metodo `accelera()` (+10 km/h).  \n",
    "#     Sottoclasse `Auto` aggiunge attributo `marca` e metodo `suona_clacson()`.  \n",
    "\n",
    "class Veicolo():\n",
    "    def __init__(self, velocità):\n",
    "        self.velocità = velocità\n",
    "\n",
    "    def accelera(self):\n",
    "        self.velocità += 10\n",
    "        return f\"Velocità attuale: {self.velocità} km/h\"\n",
    "    \n",
    "class Auto(Veicolo):\n",
    "    def __init__(self, velocità, marca):\n",
    "        super().__init__(velocità)\n",
    "        self.marca = marca\n",
    "\n",
    "    def suona_clacson(self):\n",
    "        return \"Beep beep!\"\n",
    "\n",
    "macchina = Auto(50, \"Fiat\")\n",
    "print(macchina.accelera())\n",
    "print(macchina.suona_clacson())\n"
   ]
  },
  {
   "cell_type": "code",
   "execution_count": 35,
   "id": "aa38543f",
   "metadata": {},
   "outputs": [
    {
     "name": "stdout",
     "output_type": "stream",
     "text": [
      "Mi muovo\n",
      "Bau bau!\n"
     ]
    }
   ],
   "source": [
    "# 16) Creare una classe Animale con metodo `muovi()` che stampa “Mi muovo”. Sottoclasse  \n",
    "#     `Cane` aggiunge `abbaiare()` (“Bau bau!”) e invocarle entrambe.  \n",
    "\n",
    "class Animale():\n",
    "    def muovi(self):\n",
    "        return \"Mi muovo\"\n",
    "    \n",
    "class Cane(Animale):\n",
    "    def abbaia(self):\n",
    "        return \"Bau bau!\"\n",
    "    \n",
    "cane = Cane()\n",
    "print(cane.muovi())\n",
    "print(cane.abbaia())"
   ]
  },
  {
   "cell_type": "code",
   "execution_count": 37,
   "id": "a672411e",
   "metadata": {},
   "outputs": [
    {
     "name": "stdout",
     "output_type": "stream",
     "text": [
      "Il cane sta correndo\n",
      "Il gatto sta saltando\n"
     ]
    }
   ],
   "source": [
    "# 17) Creare una classe Animale con metodo `muovi()`. Sottoclassi `Cane` e `Gatto`  \n",
    "#     sovrascrivono `muovi()` stampando rispettivamente “Il cane sta correndo” e  \n",
    "#     “Il gatto sta saltando”.  \n",
    "\n",
    "class Animale():\n",
    "    def muovi(self):\n",
    "        return \"Mi muovo\"\n",
    "    \n",
    "class Cane(Animale):\n",
    "    def abbaia(self):\n",
    "        return \"Bau bau!\"\n",
    "    def muovi(self):\n",
    "        return \"Il cane sta correndo\"\n",
    "    \n",
    "class Gatto(Animale):\n",
    "    def abbaia(self):\n",
    "        return \"Miao miao!\"\n",
    "    def muovi(self):\n",
    "        return \"Il gatto sta saltando\"\n",
    "\n",
    "cane = Cane()\n",
    "gatto = Gatto()\n",
    "print(cane.muovi())\n",
    "print(gatto.muovi())"
   ]
  },
  {
   "cell_type": "code",
   "execution_count": 40,
   "id": "bda3e582",
   "metadata": {},
   "outputs": [
    {
     "name": "stdout",
     "output_type": "stream",
     "text": [
      "La bicicletta si muove a 25 km/h\n",
      "L'auto si muove a 120 km/h\n"
     ]
    }
   ],
   "source": [
    "# 18) Creare una classe Veicolo con attributo `velocita` e metodo `muovi()`. Sottoclassi  \n",
    "#     `Auto` e `Bicicletta` sovrascrivono `velocita` (120/25 km/h) e `muovi()`  \n",
    "#     stampando le frasi corrispondenti.  \n",
    "\n",
    "class Veicolo():\n",
    "    def __init__(self, velocità):\n",
    "        self.velocità = velocità\n",
    "\n",
    "    def muovi(self):\n",
    "        return f\"Il veicolo si muove a {self.velocità} km/h\"\n",
    "    \n",
    "class Bicicletta(Veicolo):\n",
    "    def __init__(self):\n",
    "        super().__init__(25)\n",
    "\n",
    "    def muovi(self):\n",
    "        return f\"La bicicletta si muove a {25} km/h\"\n",
    "    \n",
    "class Auto(Veicolo):\n",
    "    def __init__(self):\n",
    "        super().__init__(120)\n",
    "\n",
    "    def muovi(self):\n",
    "        return f\"L'auto si muove a {120} km/h\"\n",
    "    \n",
    "bicicletta = Bicicletta()\n",
    "auto = Auto()\n",
    "print(bicicletta.muovi())\n",
    "print(auto.muovi())"
   ]
  },
  {
   "cell_type": "code",
   "execution_count": 41,
   "id": "98c34550",
   "metadata": {},
   "outputs": [
    {
     "name": "stdout",
     "output_type": "stream",
     "text": [
      "Area del quadrato: 16\n",
      "Area del cerchio: 28.274333882308138\n"
     ]
    }
   ],
   "source": [
    "# 19) Creare una classe Forma con metodo `area()`. Sottoclassi `Quadrato` e `Cerchio`  \n",
    "#     implementano `area()`.  \n",
    "\n",
    "import math \n",
    "\n",
    "class Forma():\n",
    "    def area(self):\n",
    "        raise NotImplementedError(\"Metodo area() non implementato\")\n",
    "\n",
    "class Quadrato(Forma):\n",
    "    def __init__(self, lato):\n",
    "        self.lato = lato\n",
    "\n",
    "    def area(self):\n",
    "        return self.lato ** 2\n",
    "    \n",
    "class Cerchio(Forma):\n",
    "    def __init__(self, raggio):\n",
    "        self.raggio = raggio\n",
    "\n",
    "    def area(self):\n",
    "        return math.pi * self.raggio ** 2\n",
    "    \n",
    "quadrato = Quadrato(4)\n",
    "cerchio = Cerchio(3)\n",
    "print(f\"Area del quadrato: {quadrato.area()}\")\n",
    "print(f\"Area del cerchio: {cerchio.area()}\")\n"
   ]
  },
  {
   "cell_type": "code",
   "execution_count": 42,
   "id": "d260abf2",
   "metadata": {},
   "outputs": [
    {
     "name": "stdout",
     "output_type": "stream",
     "text": [
      "Non so fare nessun verso\n",
      "None\n",
      "Bau Bau\n",
      "Miao Miao\n"
     ]
    }
   ],
   "source": [
    "# 20) Creare una classe Animale con metodo `verso()` che stampa “Non so fare nessun verso”.  \n",
    "#     Sottoclassi `Gatto` e `Cane` lo sovrascrivono con versi appropriati.  \n",
    "\n",
    "class Animale():\n",
    "    def verso(self):\n",
    "        print(\"Non so fare nessun verso\")\n",
    "\n",
    "class Gatto(Animale):\n",
    "    def verso(self):\n",
    "        return \"Miao Miao\"\n",
    "\n",
    "class Cane(Animale):\n",
    "    def verso(self):\n",
    "        return \"Bau Bau\"\n",
    "\n",
    "animale = Animale()\n",
    "cane = Cane()\n",
    "gatto = Gatto()\n",
    "\n",
    "print(animale.verso())\n",
    "print(cane.verso())\n",
    "print(gatto.verso())\n",
    "\n"
   ]
  },
  {
   "cell_type": "markdown",
   "id": "adc02d58",
   "metadata": {},
   "source": [
    "21) Qual è lo scopo dell'incapsulamento?  \n",
    "   Provvedere più sicurezza sui dati usando set e get\n",
    "\n",
    "22) Qual è lo scopo del polimorfismo?  \n",
    "   Permettere alle classi di personalizzare lo stesso metodo in base alle loro esigenze\n",
    "\n",
    "23) Qual è la differenza tra l'ereditarietà singola e multipla?  \n",
    "Singola ha un solo padre multipla ha più genitori.\n",
    "\n",
    "24) Cosa significa \"overriding\" in Python?  \n",
    "   Cambiare cosa fa una funzione in base a quale sotto-classe la chiama\n",
    "\n",
    "25) Cosa significa \"overloading\" in Python?  \n",
    "   Metodi che hanno lo stesso nome ma variano in funzione\n",
    "\n",
    "26) Cosa sono gli attributi di istanza?  \n",
    "   Variabili specifiche di ciascun oggetto\n",
    "\n",
    "27) Cosa sono gli attributi di classe?  \n",
    "   Variabili condivise da tutte le istanze di una classe\n",
    "\n",
    "28) Qual è lo scopo del metodo __init__ in Python?  \n",
    "   è il costruttore della classe\n",
    "\n",
    "29) Qual è lo scopo del metodo __str__ in Python?  \n",
    "   Definisce come vengono printate le informazioni all' interno della classe\n",
    "\n",
    "30) Come si chiama il processo di creazione di una nuova classe a partire da una classe esistente?  \n",
    "   Ereditarietà\n"
   ]
  },
  {
   "cell_type": "markdown",
   "id": "7889c205",
   "metadata": {},
   "source": []
  }
 ],
 "metadata": {
  "kernelspec": {
   "display_name": "Python 3",
   "language": "python",
   "name": "python3"
  },
  "language_info": {
   "codemirror_mode": {
    "name": "ipython",
    "version": 3
   },
   "file_extension": ".py",
   "mimetype": "text/x-python",
   "name": "python",
   "nbconvert_exporter": "python",
   "pygments_lexer": "ipython3",
   "version": "3.11.9"
  }
 },
 "nbformat": 4,
 "nbformat_minor": 5
}
