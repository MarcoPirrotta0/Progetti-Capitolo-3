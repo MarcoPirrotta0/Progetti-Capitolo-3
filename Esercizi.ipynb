{
 "cells": [
  {
   "cell_type": "markdown",
   "id": "ea7da547",
   "metadata": {},
   "source": [
    "1. **Scrivere una classe `Persona`** con gli attributi `nome` ed `età`, e un metodo `mostra` che restituisce una stringa contenente il nome e l’età della persona.\n",
    "2. **Scrivere una classe `Rettagolo`** con gli attributi `lunghezza` e `larghezza`, e i metodi `area` e `perimetro` che restituiscono rispettivamente l’area e il perimetro del rettangolo.\n",
    "3. **Scrivere una classe `Conto`** con l’attributo `saldo` e i metodi `deposito` e `ritiro` che aggiornano il saldo del conto in base all’importo depositato o prelevato.\n",
    "4. **Scrivere una classe `Auto`** con gli attributi `colore`, `modello` e `anno`, e un metodo `descrizione` che restituisce una stringa contenente la descrizione della macchina.\n",
    "5. **Scrivere una classe `Cane`** con l’attributo `nome` e i metodi `baubau` e `cammina` che rispettivamente fanno abbaiare il  e lo fanno camminare.\n",
    "6. **Definire una classe `Quadrato`** con gli attributi `larghezza` e `altezza` e un metodo `area` che calcoli l’area visualizzandola su schermo.\n",
    "7. **Definire una classe `Persona`** con gli attributi `nome` ed `età`, e un metodo `è_vecchio` che restituisce `True` se la persona ha più di 60 anni, altrimenti `False`.\n",
    "8. **Definire una classe `ContoBancario`** con l’attributo `saldo` e due metodi `deposita` e `preleva` che aggiungono o sottraggono una certa quantità dal saldo del conto.\n",
    "9. **Definire una classe `Punto`** con gli attributi `x` e `y` e un metodo `distanza_dall_origine` che calcola la distanza del punto dall’origine `(0, 0)`.\n",
    "10. **Definire una classe `Auto`** con gli attributi `marca`, `modello`, `anno` e `chilometraggio`, e un metodo `è_nuova` che restituisce `True` se l’auto ha meno di 1000 km, altrimenti `False`.\n",
    "11. **Creare una classe `Persona`** con gli attributi `nome` e `cognome`. Definire il costruttore per inizializzare gli attributi con i valori passati come argomenti.\n",
    "12. **Creare una classe `Cane`** con gli attributi `nome`, `razza` e `età`. Definire il costruttore per inizializzare gli attributi con i valori passati come argomenti.\n",
    "13. **Creare una classe `Punto`** con gli attributi `x` e `y`. Definire il costruttore per inizializzare gli attributi con i valori passati come argomenti, con valori predefiniti di zero se gli argomenti non vengono passati.\n",
    "14. **Creare una classe `Frutto`** con l’attributo `nome`. Definire il costruttore per inizializzare l’attributo con il valore passato come argomento, con valore predefinito di “sconosciuto” se l’argomento non viene passato.\n",
    "15. **Creare una classe `Libro`** con gli attributi `titolo`, `autore` e `anno`. Definire il costruttore per inizializzare gli attributi con i valori passati come argomenti, con valori predefiniti di stringhe vuote e zero se gli argomenti non vengono passati.\n",
    "16. **Creare una classe `NumeroComplesso`** con gli attributi `parte_reale` e `parte_immaginaria`. Definire il metodo magico `__add__` per sommare due numeri complessi.\n",
    "17. **Creare una classe `Punto`** con gli attributi `x` e `y`. Definire il metodo magico `__str__` per rappresentare l’oggetto come una stringa `\"x,y\"`.\n",
    "18. **Creare una classe `Prodotto`** con gli attributi `nome` e `prezzo`. Definire il metodo magico `__eq__` per confrontare due prodotti in base al nome e al prezzo.\n",
    "19. **Creare una classe `Cane`** con l’attributo `nome`. Definire il metodo magico `__len__` per restituire la lunghezza del nome del cane.\n",
    "20. **Creare una classe `ListaIntelligente`** con l’attributo `lista`. Definire il metodo magico `__getitem__` per accedere agli elementi della lista tramite l’indice.\n",
    "21. **Qual è la differenza tra un metodo di classe e un metodo di istanza?**\n",
    "22. **Come si può impedire la modifica di un attributo in una classe?**\n",
    "23. **Cosa significa il termine “ereditarietà” nella programmazione ad oggetti?**\n",
    "24. **Come si definisce una classe che eredita da una classe base in Python?**\n",
    "25. **Qual è il metodo magico per rappresentare una classe come una stringa?**\n",
    "26. **Come si definisce il costruttore di una classe in Python?**\n",
    "27. **Qual è il decoratore utilizzato per creare una proprietà in una classe?**\n",
    "28. **Cosa significa il termine “incapsulamento” nella programmazione ad oggetti?**\n",
    "29. **Qual è il metodo magico utilizzato per eseguire operazioni aritmetiche tra oggetti di una classe?**\n",
    "30. **Come si definisce un metodo di classe in Python?**\n"
   ]
  },
  {
   "cell_type": "code",
   "execution_count": null,
   "id": "a3ac5b34",
   "metadata": {},
   "outputs": [
    {
     "name": "stdout",
     "output_type": "stream",
     "text": [
      "Nome: John, Età: 36\n"
     ]
    }
   ],
   "source": [
    "class Persona:\n",
    "    def __init__(self, nome, eta): # nuova classe che prende nome e eta come variabili\n",
    "        self.nome = nome\n",
    "        self.eta = eta # def variabli\n",
    "\n",
    "    def mostra(self):\n",
    "        return f\"Nome: {self.nome}, Età: {self.eta}\" # def funzione print\n",
    "\n",
    "# Creazione di un oggetto Persona\n",
    "p1 = Persona(\"John\", 36)\n",
    "\n",
    "# Stampa delle informazioni\n",
    "print(p1.mostra())\n"
   ]
  },
  {
   "cell_type": "code",
   "execution_count": null,
   "id": "dd47a1a7",
   "metadata": {},
   "outputs": [
    {
     "name": "stdout",
     "output_type": "stream",
     "text": [
      "lunghezza: 5, larghezza: 10\n",
      "30\n",
      "50\n"
     ]
    }
   ],
   "source": [
    "# 2. **Scrivere una classe `Rettagolo`** con gli attributi `lunghezza` e `larghezza`, e i metodi `area` e `perimetro` che restituiscono rispettivamente l’area e il perimetro del rettangolo.\n",
    "\n",
    "\n",
    "class Rettangolo:\n",
    "    def __init__(self, lunghezza, larghezza):\n",
    "        self.lunghezza = lunghezza\n",
    "        self.larghezza = larghezza\n",
    "\n",
    "    def mostra(self):\n",
    "        return f\"lunghezza: {self.lunghezza}, larghezza: {self.larghezza}\"\n",
    "\n",
    "    def trovaperimetro(self):\n",
    "        return 2 * (self.lunghezza + self.larghezza)  # Calcola e restituisce il perimetro\n",
    "    \n",
    "    def trovarea(self):\n",
    "        return self.lunghezza * self.larghezza\n",
    "\n",
    "# Creazione di un oggetto Rettangolo\n",
    "p1 = Rettangolo(5, 10)\n",
    "                \n",
    "# Stampa delle informazioni\n",
    "print(p1.mostra())\n",
    "print(p1.trovaperimetro())\n",
    "print(p1.trovarea())\n"
   ]
  },
  {
   "cell_type": "code",
   "execution_count": null,
   "id": "5f1f00c2",
   "metadata": {},
   "outputs": [
    {
     "name": "stdout",
     "output_type": "stream",
     "text": [
      "Hai ritirato: 100 da 300. Saldo attuale: 200\n",
      "Hai depositato: 50 da 200. Saldo attuale: 250\n"
     ]
    }
   ],
   "source": [
    "# 3. **Scrivere una classe `Conto`** con l’attributo `saldo` e i metodi `deposito` e `ritiro` che aggiornano il saldo del conto in base all’importo depositato o prelevato.\n",
    "\n",
    "class Conto:\n",
    "    def __init__(self, saldo):\n",
    "        self.saldo = saldo\n",
    "\n",
    "    def ritiro(self, prel):\n",
    "        saldo_precedente = self.saldo\n",
    "        self.saldo -= prel\n",
    "        return f\"Hai ritirato: {prel} da {saldo_precedente}. Saldo attuale: {self.saldo}\"\n",
    "    \n",
    "    def deposito(self, dep):\n",
    "        saldo_precedente = self.saldo\n",
    "        self.saldo += dep\n",
    "        return f\"Hai depositato: {dep} da {saldo_precedente}. Saldo attuale: {self.saldo}\"\n",
    "\n",
    "# Test\n",
    "c1 = Conto(300)\n",
    "print(c1.ritiro(100))     \n",
    "print(c1.deposito(50))    \n",
    "\n",
    "        "
   ]
  },
  {
   "cell_type": "code",
   "execution_count": 26,
   "id": "4614b18b",
   "metadata": {},
   "outputs": [
    {
     "name": "stdout",
     "output_type": "stream",
     "text": [
      "Questa è una Dacia Duster di colore Rosso dell' anno:2003\n"
     ]
    }
   ],
   "source": [
    "# 4. **Scrivere una classe `Auto`** con gli attributi `colore`, `modello` e `anno`, e un metodo `descrizione` che restituisce una stringa contenente la descrizione della macchina.\n",
    "\n",
    "class Auto:\n",
    "    def __init__(self):\n",
    "        self.colore= \"Rosso\"\n",
    "        self.modello= \"Dacia Duster\"\n",
    "        self.anno= 2003\n",
    "\n",
    "    def descrizione (self):\n",
    "        return f\"Questa è una {self.modello} di colore {self.colore} dell' anno:{self.anno}\"\n",
    "    \n",
    "a1 = Auto()\n",
    "print(a1.descrizione())"
   ]
  },
  {
   "cell_type": "code",
   "execution_count": 29,
   "id": "4204412d",
   "metadata": {},
   "outputs": [
    {
     "name": "stdout",
     "output_type": "stream",
     "text": [
      "Il cane Findyou sta abbaiando\n",
      "Il cane Findyou sta camminando\n"
     ]
    }
   ],
   "source": [
    "# 5. **Scrivere una classe `Cane`** con l’attributo `nome` e i metodi `baubau` e `cammina` che rispettivamente fanno abbaiare il cane e lo fanno camminare.\n",
    "\n",
    "class Cane:\n",
    "    def __init__(self, nome):\n",
    "        self.nome = nome\n",
    "\n",
    "    def baubau (self):\n",
    "        return f\"Il cane {self.nome} sta abbaiando\"\n",
    "    \n",
    "    def cammina (self):\n",
    "        return f\"Il cane {self.nome} sta camminando\"\n",
    "    \n",
    "c1= Cane(\"Findyou\")\n",
    "print(c1.baubau())\n",
    "print(c1.cammina())"
   ]
  },
  {
   "cell_type": "code",
   "execution_count": 31,
   "id": "5f95310e",
   "metadata": {},
   "outputs": [
    {
     "name": "stdout",
     "output_type": "stream",
     "text": [
      "Lato: 5\n",
      "25\n"
     ]
    }
   ],
   "source": [
    "# 6. **Definire una classe `Quadrato`** con l’attributo `lato` e un metodo `area` che calcoli l’area visualizzandola su schermo.\n",
    "\n",
    "class Quadrato:\n",
    "    def __init__(self, lato):\n",
    "        self.lato = lato\n",
    "\n",
    "    def mostra(self):\n",
    "        return f\"Lato: {self.lato}\"\n",
    "\n",
    "    \n",
    "    def trovarea(self):\n",
    "        return self.lato * self.lato  # Calcola e restituisce l'area\n",
    "\n",
    "# Creazione di un oggetto Quadrato\n",
    "q1 = Quadrato(5)\n",
    "\n",
    "# Stampa delle informazioni\n",
    "print(q1.mostra())\n",
    "\n",
    "print(q1.trovarea())\n"
   ]
  },
  {
   "cell_type": "code",
   "execution_count": 33,
   "id": "a944d844",
   "metadata": {},
   "outputs": [
    {
     "name": "stdout",
     "output_type": "stream",
     "text": [
      "False\n",
      "True\n"
     ]
    }
   ],
   "source": [
    "# 7. **Definire una classe `Persona`** con gli attributi `nome` ed `età`, e un metodo `è_vecchio` che restituisce `True` se la persona ha più di 60 anni, altrimenti `False`.\n",
    "\n",
    "class Persona:\n",
    "    def __init__(self, nome, eta):\n",
    "        self.nome = nome\n",
    "        self.eta = eta\n",
    "\n",
    "    def vecchiezza(self):\n",
    "        if self.eta > 60:\n",
    "            return True\n",
    "        else:\n",
    "            return False\n",
    "\n",
    "p1 = Persona(\"Marco\", 22)\n",
    "p2 = Persona(\"Vecchio\", 66)\n",
    "\n",
    "print(p1.vecchiezza())\n",
    "print(p2.vecchiezza())\n"
   ]
  },
  {
   "cell_type": "code",
   "execution_count": 35,
   "id": "6e71935f",
   "metadata": {},
   "outputs": [
    {
     "name": "stdout",
     "output_type": "stream",
     "text": [
      "Hai ritirato: 100 da 300. Saldo attuale: 200\n",
      "Hai depositato: 50 da 200. Saldo attuale: 250\n"
     ]
    }
   ],
   "source": [
    "# 8. **Definire una classe `ContoBancario`** con l’attributo `saldo` e due metodi `deposita` e `preleva` che aggiungono o sottraggono una certa quantità dal saldo del conto.\n",
    "\n",
    "class ContoBancario:\n",
    "    def __init__(self, saldo):\n",
    "        self.saldo = saldo\n",
    "\n",
    "    def preleva(self, prel):\n",
    "        saldo_precedente = self.saldo\n",
    "        self.saldo -= prel\n",
    "        return f\"Hai ritirato: {prel} da {saldo_precedente}. Saldo attuale: {self.saldo}\"\n",
    "    \n",
    "    def deposita(self, dep):\n",
    "        saldo_precedente = self.saldo\n",
    "        self.saldo += dep\n",
    "        return f\"Hai depositato: {dep} da {saldo_precedente}. Saldo attuale: {self.saldo}\"\n",
    "\n",
    "# Test\n",
    "c1 = ContoBancario(300)\n",
    "print(c1.preleva(100))     \n",
    "print(c1.deposita(50))    "
   ]
  },
  {
   "cell_type": "code",
   "execution_count": 40,
   "id": "65067950",
   "metadata": {},
   "outputs": [
    {
     "name": "stdout",
     "output_type": "stream",
     "text": [
      "La distanza è: 5.385164807134504\n"
     ]
    }
   ],
   "source": [
    "# 9. **Definire una classe `Punto`** con gli attributi `x` e `y` e un metodo `distanza_dall_origine` che calcola la distanza del punto dall’origine `(0, 0)`.\n",
    "import math\n",
    "\n",
    "class Punto:\n",
    "    def __init__(self, x , y):\n",
    "        self.x = x\n",
    "        self.y = y\n",
    "\n",
    "    def distanzaorigine(self):\n",
    "        ipo = math.sqrt(self.x**2 + self.y**2)\n",
    "        return f\"La distanza è: {ipo}\"\n",
    "    \n",
    "punto = Punto(5, 2)\n",
    "print(punto.distanzaorigine())"
   ]
  },
  {
   "cell_type": "code",
   "execution_count": 41,
   "id": "e5ad7d2a",
   "metadata": {},
   "outputs": [
    {
     "name": "stdout",
     "output_type": "stream",
     "text": [
      "True\n"
     ]
    }
   ],
   "source": [
    "# 10. **Definire una classe `Auto`** con gli attributi `marca`, `modello`, `anno` e `chilometraggio`, e un metodo `è_nuova` che restituisce `True` se l’auto ha meno di 1000 km, altrimenti `False`.\n",
    "\n",
    "class Auto:\n",
    "    def __init__(self):\n",
    "        self.marca= \"Fiat\"\n",
    "        self.modello= \"Panda\"\n",
    "        self.anno= 2023\n",
    "        self.chilometraggio= 500\n",
    "\n",
    "    def è_nuova (self):\n",
    "        if self.chilometraggio < 1000:\n",
    "            return True\n",
    "        else:\n",
    "            return False\n",
    "        \n",
    "macchina = Auto()\n",
    "print(macchina.è_nuova())\n"
   ]
  },
  {
   "cell_type": "code",
   "execution_count": 42,
   "id": "cb0b5e5f",
   "metadata": {},
   "outputs": [
    {
     "name": "stdout",
     "output_type": "stream",
     "text": [
      "Nome: John, Età: 36\n"
     ]
    }
   ],
   "source": [
    "# 11. **Creare una classe `Persona`** con gli attributi `nome` e `cognome`. Definire il costruttore per inizializzare gli attributi con i valori passati come argomenti.\n",
    "\n",
    "class Persona:\n",
    "    def __init__(self, nome, eta): # nuova classe che prende nome e eta come variabili\n",
    "        self.nome = nome\n",
    "        self.eta = eta # def variabli\n",
    "\n",
    "    def mostra(self):\n",
    "        return f\"Nome: {self.nome}, Età: {self.eta}\" # def funzione print\n",
    "\n",
    "# Creazione di un oggetto Persona\n",
    "p1 = Persona(\"John\", 36)\n",
    "\n",
    "# Stampa delle informazioni\n",
    "print(p1.mostra())"
   ]
  },
  {
   "cell_type": "code",
   "execution_count": 43,
   "id": "fb10285d",
   "metadata": {},
   "outputs": [
    {
     "name": "stdout",
     "output_type": "stream",
     "text": [
      "Findyou\n",
      "Labrador\n",
      "5\n"
     ]
    }
   ],
   "source": [
    "# 12. **Creare una classe `Cane`** con gli attributi `nome`, `razza` e `età`. Definire il costruttore per inizializzare gli attributi con i valori passati come argomenti.\n",
    "\n",
    "\n",
    "class Cane:\n",
    "    def __init__(self, nome, razza, eta): \n",
    "        self.nome = nome\n",
    "        self.razza = razza\n",
    "        self.eta = eta\n",
    "    \n",
    "c1= Cane(\"Findyou\", \"Labrador\", 5)\n",
    "print(c1.nome)\n",
    "print(c1.razza)\n",
    "print(c1.eta)\n"
   ]
  },
  {
   "cell_type": "code",
   "execution_count": 44,
   "id": "5b4ff2e7",
   "metadata": {},
   "outputs": [
    {
     "name": "stdout",
     "output_type": "stream",
     "text": [
      "0\n",
      "0\n"
     ]
    }
   ],
   "source": [
    "# 13. **Creare una classe `Punto`** con gli attributi `x` e `y`. Definire il costruttore per inizializzare gli attributi con i valori passati come argomenti, \n",
    "# con valori predefiniti di zero se gli argomenti non vengono passati.\n",
    "\n",
    "\n",
    "class Punto:\n",
    "    def __init__(self, x = 0, y = 0):\n",
    "        self.x = x\n",
    "        self.y = y\n",
    "\n",
    "\n",
    "    \n",
    "punto = Punto()\n",
    "print(punto.x)\n",
    "print(punto.y)"
   ]
  },
  {
   "cell_type": "code",
   "execution_count": null,
   "id": "c69ab5bc",
   "metadata": {},
   "outputs": [
    {
     "name": "stdout",
     "output_type": "stream",
     "text": [
      "sconosciuto\n"
     ]
    }
   ],
   "source": [
    "# 14. **Creare una classe `Frutto`** con l’attributo `nome`. Definire il costruttore per inizializzare l’attributo con il valore passato come argomento, con valore predefinito di “sconosciuto” se l’argomento non viene passato.\n",
    "\n",
    "class Frutto:\n",
    "    def __init__(self, nome = \"sconosciuto\"):\n",
    "        self.nome = nome\n",
    "\n",
    "\n",
    "frutto = Frutto()\n",
    "print(frutto.nome)"
   ]
  },
  {
   "cell_type": "code",
   "execution_count": 49,
   "id": "fc108116",
   "metadata": {},
   "outputs": [
    {
     "name": "stdout",
     "output_type": "stream",
     "text": [
      "Wheel of time\n",
      "sono una stringa vuota\n",
      "0\n"
     ]
    }
   ],
   "source": [
    "# 15. **Creare una classe `Libro`** con gli attributi `titolo`, `autore` e `anno`. Definire il costruttore per inizializzare gli attributi con i valori passati come argomenti, \n",
    "# con valori predefiniti di stringhe vuote e zero se gli argomenti non vengono passati.\n",
    "\n",
    "class Libro:\n",
    "    def __init__(self, titolo = \"\", autore = \"sono una stringa vuota\", anno = 0):\n",
    "        self.titolo = titolo\n",
    "        self.autore = autore\n",
    "        self.anno = anno\n",
    "\n",
    "Libro1 = Libro(\"Wheel of time\")\n",
    "print(Libro1.titolo)\n",
    "print(Libro1.autore)\n",
    "print(Libro1.anno)\n"
   ]
  },
  {
   "cell_type": "code",
   "execution_count": 61,
   "id": "d57c2f66",
   "metadata": {},
   "outputs": [
    {
     "name": "stdout",
     "output_type": "stream",
     "text": [
      "4 + 6i\n"
     ]
    }
   ],
   "source": [
    "#16. **Creare una classe `NumeroComplesso`** con gli attributi `parte_reale` e `parte_immaginaria`. Definire il metodo magico `__add__` per sommare due numeri complessi.\n",
    "\n",
    "class NumeroComplesso:\n",
    "    def __init__(self, parte_reale, parte_immaginaria):\n",
    "        self.parte_reale = parte_reale\n",
    "        self.parte_immaginaria = parte_immaginaria\n",
    "\n",
    "    def __add__(self, other):\n",
    "        return NumeroComplesso(self.parte_reale + other.parte_reale, \n",
    "                               self.parte_immaginaria + other.parte_immaginaria)\n",
    "\n",
    "    def __str__(self):\n",
    "        return f\"{self.parte_reale} + {self.parte_immaginaria}i\"\n",
    "\n",
    "# Esempio di utilizzo\n",
    "num1 = NumeroComplesso(3, 4)\n",
    "num2 = NumeroComplesso(1, 2)\n",
    "somma = num1 + num2\n",
    "print(somma)  # Stampa \"4 + 6i\"\n",
    "\n"
   ]
  },
  {
   "cell_type": "code",
   "execution_count": 56,
   "id": "572099e8",
   "metadata": {},
   "outputs": [
    {
     "name": "stdout",
     "output_type": "stream",
     "text": [
      "5, 2\n"
     ]
    }
   ],
   "source": [
    "# 17. **Creare una classe `Punto`** con gli attributi `x` e `y`. Definire il metodo magico `__str__` per rappresentare l’oggetto come una stringa `\"x,y\"`.\n",
    "\n",
    "\n",
    "class Punto:\n",
    "    def __init__(self, x , y):\n",
    "        self.x = x\n",
    "        self.y = y\n",
    "\n",
    "    def __str__(self):\n",
    "        return f\"{self.x}, {self.y}\"  \n",
    "\n",
    "    \n",
    "punto = Punto(5, 2)\n",
    "print(punto)  # Stampa \"5, 2\"\n"
   ]
  },
  {
   "cell_type": "code",
   "execution_count": null,
   "id": "9c6e6158",
   "metadata": {},
   "outputs": [
    {
     "name": "stdout",
     "output_type": "stream",
     "text": [
      "True\n",
      "False\n"
     ]
    }
   ],
   "source": [
    "# 18. **Creare una classe `Prodotto`** con gli attributi `nome` e `prezzo`. Definire il metodo magico `__eq__` per confrontare due prodotti in base al nome e al prezzo.\n",
    "\n",
    "class Prodotto:\n",
    "    def __init__(self, nome, prezzo):\n",
    "        self.nome = nome\n",
    "        self.prezzo = prezzo\n",
    "\n",
    "    def __eq__(self, other):\n",
    "        return self.nome == other.nome and self.prezzo == other.prezzo\n",
    "    \n",
    "prodotto1 = Prodotto(\"Mela\", 1.5)\n",
    "prodotto2 = Prodotto(\"Mela\", 1.5)\n",
    "prodotto3 = Prodotto(\"Pera\", 1.5)\n",
    "\n",
    "print(prodotto1 == prodotto2) \n",
    "print(prodotto1 == prodotto3) \n"
   ]
  },
  {
   "cell_type": "code",
   "execution_count": 59,
   "id": "90c975d7",
   "metadata": {},
   "outputs": [
    {
     "name": "stdout",
     "output_type": "stream",
     "text": [
      "7\n"
     ]
    }
   ],
   "source": [
    "# 19. **Creare una classe `Cane`** con l’attributo `nome`. Definire il metodo magico `__len__` per restituire la lunghezza del nome del cane.\n",
    "\n",
    "\n",
    "class Cane:\n",
    "    def __init__(self, nome):\n",
    "        self.nome = nome\n",
    "\n",
    "    def __len__(self):\n",
    "        return len(self.nome)\n",
    "    \n",
    "c1= Cane(\"Findyou\")\n",
    "print(len(c1))  # Stampa la lunghezza del nome del cane"
   ]
  },
  {
   "cell_type": "code",
   "execution_count": 60,
   "id": "144402c3",
   "metadata": {},
   "outputs": [
    {
     "name": "stdout",
     "output_type": "stream",
     "text": [
      "3\n"
     ]
    }
   ],
   "source": [
    "# 20. **Creare una classe `ListaIntelligente`** con l’attributo `lista`. Definire il metodo magico `__getitem__` per accedere agli elementi della lista tramite l’indice.\n",
    "\n",
    "class ListaIntelligente:\n",
    "    def __init__(self, lista):\n",
    "        self.lista = lista\n",
    "\n",
    "    def __getitem__(self, index):\n",
    "        return self.lista[index]\n",
    "    \n",
    "lista= ListaIntelligente([1, 2, 3, 4, 5])\n",
    "print(lista[2])  # Stampa il terzo elemento della lista (3)"
   ]
  },
  {
   "cell_type": "markdown",
   "id": "6ed868df",
   "metadata": {},
   "source": [
    "21. Metodo di classe vs istanza  \n",
    "- @classmethod → primo arg cls, agisce sulla classe  \n",
    "- istanza → primo arg self, agisce sull’oggetto  \n",
    "\n",
    "22. Bloccare attributo  \n",
    "- @property senza setter  \n",
    "\n",
    "23. Ereditarietà  \n",
    "- Figlia eredita attributi/metodi da padre  \n",
    "\n",
    "24. Definire classe che eredita  \n",
    "class Figlia(Padre): ...  \n",
    "\n",
    "25. Metodo magico stringa  \n",
    "- __str__  \n",
    "\n",
    "26. Costruttore  \n",
    "- __init__  \n",
    "\n",
    "27. Decoratore proprietà  \n",
    "- @property  \n",
    "\n",
    "28. Incapsulamento  \n",
    "- Nascondere dati dietro metodi  \n",
    "\n",
    "29. Metodo magico aritmetica  \n",
    "- __add__, __sub__, \n",
    "\n",
    "30. Metodo di classe  \n",
    "@classmethod  \n",
    "def m(cls): ...  \n"
   ]
  }
 ],
 "metadata": {
  "kernelspec": {
   "display_name": "Python 3",
   "language": "python",
   "name": "python3"
  },
  "language_info": {
   "codemirror_mode": {
    "name": "ipython",
    "version": 3
   },
   "file_extension": ".py",
   "mimetype": "text/x-python",
   "name": "python",
   "nbconvert_exporter": "python",
   "pygments_lexer": "ipython3",
   "version": "3.11.9"
  }
 },
 "nbformat": 4,
 "nbformat_minor": 5
}
